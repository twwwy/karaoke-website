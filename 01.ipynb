{
 "cells": [
  {
   "cell_type": "markdown",
   "metadata": {},
   "source": [
    "## Process:\n",
    "1. Use PyTube to download video and audio\n",
    "2. Use Spleeter to remove vocal"
   ]
  },
  {
   "cell_type": "code",
   "execution_count": 21,
   "metadata": {},
   "outputs": [],
   "source": [
    "from pytube import YouTube\n",
    "import io\n"
   ]
  },
  {
   "cell_type": "code",
   "execution_count": 17,
   "metadata": {},
   "outputs": [
    {
     "name": "stdout",
     "output_type": "stream",
     "text": [
      "<class 'pytube.exceptions.RegexMatchError'>\n"
     ]
    }
   ],
   "source": [
    "try:\n",
    "    yt = YouTube('https://www.youtube.com/watch?')\n",
    "except Exception as e:\n",
    "    print(type(e))"
   ]
  },
  {
   "cell_type": "code",
   "execution_count": 10,
   "metadata": {},
   "outputs": [
    {
     "name": "stdout",
     "output_type": "stream",
     "text": [
      "Charlie Puth - We Don't Talk Anymore (feat. Selena Gomez) [Official Video]\n"
     ]
    }
   ],
   "source": [
    "print(yt.streams.get_audio_only().title)"
   ]
  },
  {
   "cell_type": "code",
   "execution_count": 2,
   "metadata": {},
   "outputs": [],
   "source": [
    "yt = YouTube('https://youtube.com/watch?v=9bZkp7q19f0')"
   ]
  },
  {
   "cell_type": "code",
   "execution_count": 35,
   "metadata": {},
   "outputs": [],
   "source": [
    "buffer = io.BytesIO()"
   ]
  },
  {
   "cell_type": "code",
   "execution_count": 37,
   "metadata": {},
   "outputs": [],
   "source": [
    "yt.streams.get_audio_only().stream_to_buffer(buffer)"
   ]
  },
  {
   "cell_type": "code",
   "execution_count": 27,
   "metadata": {},
   "outputs": [],
   "source": [
    "import sys"
   ]
  },
  {
   "cell_type": "code",
   "execution_count": 38,
   "metadata": {},
   "outputs": [
    {
     "data": {
      "text/plain": [
       "4253319"
      ]
     },
     "execution_count": 38,
     "metadata": {},
     "output_type": "execute_result"
    }
   ],
   "source": [
    "sys.getsizeof(buffer)"
   ]
  },
  {
   "cell_type": "code",
   "execution_count": 12,
   "metadata": {},
   "outputs": [
    {
     "data": {
      "text/plain": [
       "'PSY - GANGNAM STYLE(강남스타일) M/V'"
      ]
     },
     "execution_count": 12,
     "metadata": {},
     "output_type": "execute_result"
    }
   ],
   "source": [
    "yt.streams.get_audio_only().title"
   ]
  },
  {
   "cell_type": "code",
   "execution_count": 8,
   "metadata": {},
   "outputs": [
    {
     "data": {
      "text/plain": [
       "'/Users/weiyun.wang/PycharmProjects/Karaoke/PSY - GANGNAM STYLE(강남스타일) MV.mp4'"
      ]
     },
     "execution_count": 8,
     "metadata": {},
     "output_type": "execute_result"
    }
   ],
   "source": [
    "yt.streams.get_audio_only().download()"
   ]
  },
  {
   "cell_type": "code",
   "execution_count": 75,
   "metadata": {},
   "outputs": [
    {
     "data": {
      "text/plain": [
       "'/Users/weiyun.wang/PycharmProjects/Karaoke/Charlie Puth - We Dont Talk Anymore (feat Selena Gomez) [Official Video].mp4'"
      ]
     },
     "execution_count": 75,
     "metadata": {},
     "output_type": "execute_result"
    }
   ],
   "source": [
    "yt.streams.filter(only_audio=True, subtype='mp4').order_by(\"abr\").last().download()"
   ]
  },
  {
   "cell_type": "code",
   "execution_count": 1,
   "metadata": {},
   "outputs": [
    {
     "name": "stderr",
     "output_type": "stream",
     "text": [
      "/Users/weiyun.wang/.conda/envs/Karaoke/lib/python3.7/site-packages/librosa/util/decorators.py:9: NumbaDeprecationWarning: An import was requested from a module that has moved location.\n",
      "Import requested from: 'numba.decorators', please update to use 'numba.core.decorators' or pin to Numba version 0.48.0. This alias will not be present in Numba version 0.50.0.\n",
      "  from numba.decorators import jit as optional_jit\n",
      "/Users/weiyun.wang/.conda/envs/Karaoke/lib/python3.7/site-packages/librosa/util/decorators.py:9: NumbaDeprecationWarning: An import was requested from a module that has moved location.\n",
      "Import of 'jit' requested from: 'numba.decorators', please update to use 'numba.core.decorators' or pin to Numba version 0.48.0. This alias will not be present in Numba version 0.50.0.\n",
      "  from numba.decorators import jit as optional_jit\n"
     ]
    }
   ],
   "source": [
    "from spleeter.separator import Separator"
   ]
  },
  {
   "cell_type": "code",
   "execution_count": 2,
   "metadata": {},
   "outputs": [],
   "source": [
    "separator = Separator('spleeter:2stems')"
   ]
  },
  {
   "cell_type": "code",
   "execution_count": 3,
   "metadata": {},
   "outputs": [],
   "source": [
    "from spleeter.audio.adapter import get_default_audio_adapter"
   ]
  },
  {
   "cell_type": "code",
   "execution_count": 4,
   "metadata": {},
   "outputs": [],
   "source": [
    "audio_loader = get_default_audio_adapter()\n",
    "sample_rate = 44100\n",
    "waveform, _ = audio_loader.load('PSY - GANGNAM STYLE(강남스타일) MV.mp4', sample_rate=sample_rate)"
   ]
  },
  {
   "cell_type": "code",
   "execution_count": 5,
   "metadata": {},
   "outputs": [
    {
     "name": "stdout",
     "output_type": "stream",
     "text": [
      "INFO:tensorflow:Apply unet for vocals_spectrogram\n",
      "WARNING:tensorflow:From /Users/weiyun.wang/.conda/envs/Karaoke/lib/python3.7/site-packages/tensorflow_core/python/ops/resource_variable_ops.py:1630: calling BaseResourceVariable.__init__ (from tensorflow.python.ops.resource_variable_ops) with constraint is deprecated and will be removed in a future version.\n",
      "Instructions for updating:\n",
      "If using Keras pass *_constraint arguments to layers.\n",
      "INFO:tensorflow:Apply unet for accompaniment_spectrogram\n",
      "WARNING:tensorflow:From /Users/weiyun.wang/.conda/envs/Karaoke/lib/python3.7/site-packages/spleeter/separator.py:158: The name tf.train.Saver is deprecated. Please use tf.compat.v1.train.Saver instead.\n",
      "\n",
      "WARNING:tensorflow:From /Users/weiyun.wang/.conda/envs/Karaoke/lib/python3.7/site-packages/spleeter/separator.py:160: The name tf.Session is deprecated. Please use tf.compat.v1.Session instead.\n",
      "\n",
      "INFO:tensorflow:Restoring parameters from pretrained_models/2stems/model\n"
     ]
    }
   ],
   "source": [
    "prediction = separator.separate(waveform)"
   ]
  },
  {
   "cell_type": "code",
   "execution_count": 6,
   "metadata": {},
   "outputs": [
    {
     "ename": "OSError",
     "evalue": "[Errno 30] Read-only file system: '/audio'",
     "output_type": "error",
     "traceback": [
      "\u001b[0;31m---------------------------------------------------------------------------\u001b[0m",
      "\u001b[0;31mOSError\u001b[0m                                   Traceback (most recent call last)",
      "\u001b[0;32m<ipython-input-6-bfe27b9308f0>\u001b[0m in \u001b[0;36m<module>\u001b[0;34m\u001b[0m\n\u001b[0;32m----> 1\u001b[0;31m \u001b[0mseparator\u001b[0m\u001b[0;34m.\u001b[0m\u001b[0mseparate_to_file\u001b[0m\u001b[0;34m(\u001b[0m\u001b[0;34m'PSY - GANGNAM STYLE(강남스타일) MV.mp4'\u001b[0m\u001b[0;34m,\u001b[0m \u001b[0;34m'/audio'\u001b[0m\u001b[0;34m,\u001b[0m \u001b[0mfilename_format\u001b[0m\u001b[0;34m=\u001b[0m\u001b[0;34m'm4a'\u001b[0m\u001b[0;34m)\u001b[0m\u001b[0;34m\u001b[0m\u001b[0;34m\u001b[0m\u001b[0m\n\u001b[0m",
      "\u001b[0;32m~/.conda/envs/Karaoke/lib/python3.7/site-packages/spleeter/separator.py\u001b[0m in \u001b[0;36mseparate_to_file\u001b[0;34m(self, audio_descriptor, destination, audio_adapter, offset, duration, codec, bitrate, filename_format, synchronous)\u001b[0m\n\u001b[1;32m    229\u001b[0m         self.save_to_file(  sources, audio_descriptor, destination,\n\u001b[1;32m    230\u001b[0m                             \u001b[0mfilename_format\u001b[0m\u001b[0;34m,\u001b[0m \u001b[0mcodec\u001b[0m\u001b[0;34m,\u001b[0m \u001b[0maudio_adapter\u001b[0m\u001b[0;34m,\u001b[0m\u001b[0;34m\u001b[0m\u001b[0;34m\u001b[0m\u001b[0m\n\u001b[0;32m--> 231\u001b[0;31m                             bitrate, synchronous)\n\u001b[0m\u001b[1;32m    232\u001b[0m \u001b[0;34m\u001b[0m\u001b[0m\n\u001b[1;32m    233\u001b[0m     def save_to_file(\n",
      "\u001b[0;32m~/.conda/envs/Karaoke/lib/python3.7/site-packages/spleeter/separator.py\u001b[0m in \u001b[0;36msave_to_file\u001b[0;34m(self, sources, audio_descriptor, destination, filename_format, codec, audio_adapter, bitrate, synchronous)\u001b[0m\n\u001b[1;32m    266\u001b[0m             \u001b[0mdirectory\u001b[0m \u001b[0;34m=\u001b[0m \u001b[0mos\u001b[0m\u001b[0;34m.\u001b[0m\u001b[0mpath\u001b[0m\u001b[0;34m.\u001b[0m\u001b[0mdirname\u001b[0m\u001b[0;34m(\u001b[0m\u001b[0mpath\u001b[0m\u001b[0;34m)\u001b[0m\u001b[0;34m\u001b[0m\u001b[0;34m\u001b[0m\u001b[0m\n\u001b[1;32m    267\u001b[0m             \u001b[0;32mif\u001b[0m \u001b[0;32mnot\u001b[0m \u001b[0mos\u001b[0m\u001b[0;34m.\u001b[0m\u001b[0mpath\u001b[0m\u001b[0;34m.\u001b[0m\u001b[0mexists\u001b[0m\u001b[0;34m(\u001b[0m\u001b[0mdirectory\u001b[0m\u001b[0;34m)\u001b[0m\u001b[0;34m:\u001b[0m\u001b[0;34m\u001b[0m\u001b[0;34m\u001b[0m\u001b[0m\n\u001b[0;32m--> 268\u001b[0;31m                 \u001b[0mos\u001b[0m\u001b[0;34m.\u001b[0m\u001b[0mmakedirs\u001b[0m\u001b[0;34m(\u001b[0m\u001b[0mdirectory\u001b[0m\u001b[0;34m)\u001b[0m\u001b[0;34m\u001b[0m\u001b[0;34m\u001b[0m\u001b[0m\n\u001b[0m\u001b[1;32m    269\u001b[0m             \u001b[0;32mif\u001b[0m \u001b[0mpath\u001b[0m \u001b[0;32min\u001b[0m \u001b[0mgenerated\u001b[0m\u001b[0;34m:\u001b[0m\u001b[0;34m\u001b[0m\u001b[0;34m\u001b[0m\u001b[0m\n\u001b[1;32m    270\u001b[0m                 raise SpleeterError((\n",
      "\u001b[0;32m~/.conda/envs/Karaoke/lib/python3.7/os.py\u001b[0m in \u001b[0;36mmakedirs\u001b[0;34m(name, mode, exist_ok)\u001b[0m\n\u001b[1;32m    221\u001b[0m             \u001b[0;32mreturn\u001b[0m\u001b[0;34m\u001b[0m\u001b[0;34m\u001b[0m\u001b[0m\n\u001b[1;32m    222\u001b[0m     \u001b[0;32mtry\u001b[0m\u001b[0;34m:\u001b[0m\u001b[0;34m\u001b[0m\u001b[0;34m\u001b[0m\u001b[0m\n\u001b[0;32m--> 223\u001b[0;31m         \u001b[0mmkdir\u001b[0m\u001b[0;34m(\u001b[0m\u001b[0mname\u001b[0m\u001b[0;34m,\u001b[0m \u001b[0mmode\u001b[0m\u001b[0;34m)\u001b[0m\u001b[0;34m\u001b[0m\u001b[0;34m\u001b[0m\u001b[0m\n\u001b[0m\u001b[1;32m    224\u001b[0m     \u001b[0;32mexcept\u001b[0m \u001b[0mOSError\u001b[0m\u001b[0;34m:\u001b[0m\u001b[0;34m\u001b[0m\u001b[0;34m\u001b[0m\u001b[0m\n\u001b[1;32m    225\u001b[0m         \u001b[0;31m# Cannot rely on checking for EEXIST, since the operating system\u001b[0m\u001b[0;34m\u001b[0m\u001b[0;34m\u001b[0m\u001b[0;34m\u001b[0m\u001b[0m\n",
      "\u001b[0;31mOSError\u001b[0m: [Errno 30] Read-only file system: '/audio'"
     ]
    }
   ],
   "source": [
    "separator.separate_to_file('PSY - GANGNAM STYLE(강남스타일) MV.mp4', '/audio', filename_format='m4a')"
   ]
  },
  {
   "cell_type": "code",
   "execution_count": 77,
   "metadata": {
    "collapsed": true,
    "jupyter": {
     "outputs_hidden": true
    }
   },
   "outputs": [
    {
     "ename": "SpleeterError",
     "evalue": "FFMPEG error: b\"ffmpeg version 4.2 Copyright (c) 2000-2019 the FFmpeg developers\\n  built with clang version 4.0.1 (tags/RELEASE_401/final)\\n  configuration: --prefix=/Users/weiyun.wang/.conda/envs/Karaoke --cc=x86_64-apple-darwin13.4.0-clang --disable-doc --disable-openssl --enable-avresample --enable-gnutls --enable-gpl --enable-hardcoded-tables --enable-libfreetype --enable-libopenh264 --enable-libx264 --enable-pic --enable-pthreads --enable-shared --enable-static --enable-version3 --enable-zlib --enable-libmp3lame\\n  libavutil      56. 31.100 / 56. 31.100\\n  libavcodec     58. 54.100 / 58. 54.100\\n  libavformat    58. 29.100 / 58. 29.100\\n  libavdevice    58.  8.100 / 58.  8.100\\n  libavfilter     7. 57.100 /  7. 57.100\\n  libavresample   4.  0.  0 /  4.  0.  0\\n  libswscale      5.  5.100 /  5.  5.100\\n  libswresample   3.  5.100 /  3.  5.100\\n  libpostproc    55.  5.100 / 55.  5.100\\nGuessed Channel Layout for Input Stream #0.0 : stereo\\nInput #0, f32le, from 'pipe:':\\n  Duration: N/A, bitrate: 2822 kb/s\\n    Stream #0:0: Audio: pcm_f32le, 44100 Hz, stereo, flt, 2822 kb/s\\nUnknown encoder 'mp4'\\n\"",
     "output_type": "error",
     "traceback": [
      "\u001b[0;31m---------------------------------------------------------------------------\u001b[0m",
      "\u001b[0;31mRemoteTraceback\u001b[0m                           Traceback (most recent call last)",
      "\u001b[0;31mRemoteTraceback\u001b[0m: \n\"\"\"\nTraceback (most recent call last):\n  File \"/Users/weiyun.wang/.conda/envs/Karaoke/lib/python3.7/site-packages/spleeter/audio/ffmpeg.py\", line 132, in save\n    process.stdin.write(data.astype('<f4').tobytes())\nBrokenPipeError: [Errno 32] Broken pipe\n\nDuring handling of the above exception, another exception occurred:\n\nTraceback (most recent call last):\n  File \"/Users/weiyun.wang/.conda/envs/Karaoke/lib/python3.7/multiprocessing/pool.py\", line 121, in worker\n    result = (True, func(*args, **kwds))\n  File \"/Users/weiyun.wang/.conda/envs/Karaoke/lib/python3.7/site-packages/spleeter/audio/ffmpeg.py\", line 136, in save\n    raise SpleeterError(f'FFMPEG error: {process.stderr.read()}')\nspleeter.SpleeterError: FFMPEG error: b\"ffmpeg version 4.2 Copyright (c) 2000-2019 the FFmpeg developers\\n  built with clang version 4.0.1 (tags/RELEASE_401/final)\\n  configuration: --prefix=/Users/weiyun.wang/.conda/envs/Karaoke --cc=x86_64-apple-darwin13.4.0-clang --disable-doc --disable-openssl --enable-avresample --enable-gnutls --enable-gpl --enable-hardcoded-tables --enable-libfreetype --enable-libopenh264 --enable-libx264 --enable-pic --enable-pthreads --enable-shared --enable-static --enable-version3 --enable-zlib --enable-libmp3lame\\n  libavutil      56. 31.100 / 56. 31.100\\n  libavcodec     58. 54.100 / 58. 54.100\\n  libavformat    58. 29.100 / 58. 29.100\\n  libavdevice    58.  8.100 / 58.  8.100\\n  libavfilter     7. 57.100 /  7. 57.100\\n  libavresample   4.  0.  0 /  4.  0.  0\\n  libswscale      5.  5.100 /  5.  5.100\\n  libswresample   3.  5.100 /  3.  5.100\\n  libpostproc    55.  5.100 / 55.  5.100\\nGuessed Channel Layout for Input Stream #0.0 : stereo\\nInput #0, f32le, from 'pipe:':\\n  Duration: N/A, bitrate: 2822 kb/s\\n    Stream #0:0: Audio: pcm_f32le, 44100 Hz, stereo, flt, 2822 kb/s\\nUnknown encoder 'mp4'\\n\"\n\"\"\"",
      "\nThe above exception was the direct cause of the following exception:\n",
      "\u001b[0;31mSpleeterError\u001b[0m                             Traceback (most recent call last)",
      "\u001b[0;32m<ipython-input-77-2c837f432a89>\u001b[0m in \u001b[0;36m<module>\u001b[0;34m\u001b[0m\n\u001b[0;32m----> 1\u001b[0;31m \u001b[0mseparator\u001b[0m\u001b[0;34m.\u001b[0m\u001b[0mseparate_to_file\u001b[0m\u001b[0;34m(\u001b[0m\u001b[0;34m'Charlie Puth - We Dont Talk Anymore (feat Selena Gomez) [Official Video].mp4'\u001b[0m\u001b[0;34m,\u001b[0m \u001b[0;34m''\u001b[0m\u001b[0;34m,\u001b[0m \u001b[0mcodec\u001b[0m\u001b[0;34m=\u001b[0m\u001b[0;34m'mp4'\u001b[0m\u001b[0;34m)\u001b[0m\u001b[0;34m\u001b[0m\u001b[0;34m\u001b[0m\u001b[0m\n\u001b[0m",
      "\u001b[0;32m~/.conda/envs/Karaoke/lib/python3.7/site-packages/spleeter/separator.py\u001b[0m in \u001b[0;36mseparate_to_file\u001b[0;34m(self, audio_descriptor, destination, audio_adapter, offset, duration, codec, bitrate, filename_format, synchronous)\u001b[0m\n\u001b[1;32m    229\u001b[0m         self.save_to_file(  sources, audio_descriptor, destination,\n\u001b[1;32m    230\u001b[0m                             \u001b[0mfilename_format\u001b[0m\u001b[0;34m,\u001b[0m \u001b[0mcodec\u001b[0m\u001b[0;34m,\u001b[0m \u001b[0maudio_adapter\u001b[0m\u001b[0;34m,\u001b[0m\u001b[0;34m\u001b[0m\u001b[0;34m\u001b[0m\u001b[0m\n\u001b[0;32m--> 231\u001b[0;31m                             bitrate, synchronous)\n\u001b[0m\u001b[1;32m    232\u001b[0m \u001b[0;34m\u001b[0m\u001b[0m\n\u001b[1;32m    233\u001b[0m     def save_to_file(\n",
      "\u001b[0;32m~/.conda/envs/Karaoke/lib/python3.7/site-packages/spleeter/separator.py\u001b[0m in \u001b[0;36msave_to_file\u001b[0;34m(self, sources, audio_descriptor, destination, filename_format, codec, audio_adapter, bitrate, synchronous)\u001b[0m\n\u001b[1;32m    283\u001b[0m                 \u001b[0maudio_adapter\u001b[0m\u001b[0;34m.\u001b[0m\u001b[0msave\u001b[0m\u001b[0;34m(\u001b[0m\u001b[0mpath\u001b[0m\u001b[0;34m,\u001b[0m \u001b[0mdata\u001b[0m\u001b[0;34m,\u001b[0m \u001b[0mself\u001b[0m\u001b[0;34m.\u001b[0m\u001b[0m_sample_rate\u001b[0m\u001b[0;34m,\u001b[0m \u001b[0mcodec\u001b[0m\u001b[0;34m,\u001b[0m \u001b[0mbitrate\u001b[0m\u001b[0;34m)\u001b[0m\u001b[0;34m\u001b[0m\u001b[0;34m\u001b[0m\u001b[0m\n\u001b[1;32m    284\u001b[0m         \u001b[0;32mif\u001b[0m \u001b[0msynchronous\u001b[0m \u001b[0;32mand\u001b[0m \u001b[0mself\u001b[0m\u001b[0;34m.\u001b[0m\u001b[0m_pool\u001b[0m\u001b[0;34m:\u001b[0m\u001b[0;34m\u001b[0m\u001b[0;34m\u001b[0m\u001b[0m\n\u001b[0;32m--> 285\u001b[0;31m             \u001b[0mself\u001b[0m\u001b[0;34m.\u001b[0m\u001b[0mjoin\u001b[0m\u001b[0;34m(\u001b[0m\u001b[0;34m)\u001b[0m\u001b[0;34m\u001b[0m\u001b[0;34m\u001b[0m\u001b[0m\n\u001b[0m",
      "\u001b[0;32m~/.conda/envs/Karaoke/lib/python3.7/site-packages/spleeter/separator.py\u001b[0m in \u001b[0;36mjoin\u001b[0;34m(self, timeout)\u001b[0m\n\u001b[1;32m     92\u001b[0m         \u001b[0;32mwhile\u001b[0m \u001b[0mlen\u001b[0m\u001b[0;34m(\u001b[0m\u001b[0mself\u001b[0m\u001b[0;34m.\u001b[0m\u001b[0m_tasks\u001b[0m\u001b[0;34m)\u001b[0m \u001b[0;34m>\u001b[0m \u001b[0;36m0\u001b[0m\u001b[0;34m:\u001b[0m\u001b[0;34m\u001b[0m\u001b[0;34m\u001b[0m\u001b[0m\n\u001b[1;32m     93\u001b[0m             \u001b[0mtask\u001b[0m \u001b[0;34m=\u001b[0m \u001b[0mself\u001b[0m\u001b[0;34m.\u001b[0m\u001b[0m_tasks\u001b[0m\u001b[0;34m.\u001b[0m\u001b[0mpop\u001b[0m\u001b[0;34m(\u001b[0m\u001b[0;34m)\u001b[0m\u001b[0;34m\u001b[0m\u001b[0;34m\u001b[0m\u001b[0m\n\u001b[0;32m---> 94\u001b[0;31m             \u001b[0mtask\u001b[0m\u001b[0;34m.\u001b[0m\u001b[0mget\u001b[0m\u001b[0;34m(\u001b[0m\u001b[0;34m)\u001b[0m\u001b[0;34m\u001b[0m\u001b[0;34m\u001b[0m\u001b[0m\n\u001b[0m\u001b[1;32m     95\u001b[0m             \u001b[0mtask\u001b[0m\u001b[0;34m.\u001b[0m\u001b[0mwait\u001b[0m\u001b[0;34m(\u001b[0m\u001b[0mtimeout\u001b[0m\u001b[0;34m=\u001b[0m\u001b[0mtimeout\u001b[0m\u001b[0;34m)\u001b[0m\u001b[0;34m\u001b[0m\u001b[0;34m\u001b[0m\u001b[0m\n\u001b[1;32m     96\u001b[0m \u001b[0;34m\u001b[0m\u001b[0m\n",
      "\u001b[0;32m~/.conda/envs/Karaoke/lib/python3.7/multiprocessing/pool.py\u001b[0m in \u001b[0;36mget\u001b[0;34m(self, timeout)\u001b[0m\n\u001b[1;32m    655\u001b[0m             \u001b[0;32mreturn\u001b[0m \u001b[0mself\u001b[0m\u001b[0;34m.\u001b[0m\u001b[0m_value\u001b[0m\u001b[0;34m\u001b[0m\u001b[0;34m\u001b[0m\u001b[0m\n\u001b[1;32m    656\u001b[0m         \u001b[0;32melse\u001b[0m\u001b[0;34m:\u001b[0m\u001b[0;34m\u001b[0m\u001b[0;34m\u001b[0m\u001b[0m\n\u001b[0;32m--> 657\u001b[0;31m             \u001b[0;32mraise\u001b[0m \u001b[0mself\u001b[0m\u001b[0;34m.\u001b[0m\u001b[0m_value\u001b[0m\u001b[0;34m\u001b[0m\u001b[0;34m\u001b[0m\u001b[0m\n\u001b[0m\u001b[1;32m    658\u001b[0m \u001b[0;34m\u001b[0m\u001b[0m\n\u001b[1;32m    659\u001b[0m     \u001b[0;32mdef\u001b[0m \u001b[0m_set\u001b[0m\u001b[0;34m(\u001b[0m\u001b[0mself\u001b[0m\u001b[0;34m,\u001b[0m \u001b[0mi\u001b[0m\u001b[0;34m,\u001b[0m \u001b[0mobj\u001b[0m\u001b[0;34m)\u001b[0m\u001b[0;34m:\u001b[0m\u001b[0;34m\u001b[0m\u001b[0;34m\u001b[0m\u001b[0m\n",
      "\u001b[0;31mSpleeterError\u001b[0m: FFMPEG error: b\"ffmpeg version 4.2 Copyright (c) 2000-2019 the FFmpeg developers\\n  built with clang version 4.0.1 (tags/RELEASE_401/final)\\n  configuration: --prefix=/Users/weiyun.wang/.conda/envs/Karaoke --cc=x86_64-apple-darwin13.4.0-clang --disable-doc --disable-openssl --enable-avresample --enable-gnutls --enable-gpl --enable-hardcoded-tables --enable-libfreetype --enable-libopenh264 --enable-libx264 --enable-pic --enable-pthreads --enable-shared --enable-static --enable-version3 --enable-zlib --enable-libmp3lame\\n  libavutil      56. 31.100 / 56. 31.100\\n  libavcodec     58. 54.100 / 58. 54.100\\n  libavformat    58. 29.100 / 58. 29.100\\n  libavdevice    58.  8.100 / 58.  8.100\\n  libavfilter     7. 57.100 /  7. 57.100\\n  libavresample   4.  0.  0 /  4.  0.  0\\n  libswscale      5.  5.100 /  5.  5.100\\n  libswresample   3.  5.100 /  3.  5.100\\n  libpostproc    55.  5.100 / 55.  5.100\\nGuessed Channel Layout for Input Stream #0.0 : stereo\\nInput #0, f32le, from 'pipe:':\\n  Duration: N/A, bitrate: 2822 kb/s\\n    Stream #0:0: Audio: pcm_f32le, 44100 Hz, stereo, flt, 2822 kb/s\\nUnknown encoder 'mp4'\\n\""
     ]
    }
   ],
   "source": [
    "separator.separate_to_file('Charlie Puth - We Dont Talk Anymore (feat Selena Gomez) [Official Video].mp4', '')"
   ]
  },
  {
   "cell_type": "code",
   "execution_count": null,
   "metadata": {},
   "outputs": [],
   "source": []
  },
  {
   "cell_type": "markdown",
   "metadata": {},
   "source": [
    "# Youtube Search"
   ]
  },
  {
   "cell_type": "code",
   "execution_count": 18,
   "metadata": {},
   "outputs": [],
   "source": [
    "from youtube_search import YoutubeSearch"
   ]
  },
  {
   "cell_type": "code",
   "execution_count": 35,
   "metadata": {},
   "outputs": [],
   "source": [
    "search_terms = \"黑色毛衣\""
   ]
  },
  {
   "cell_type": "code",
   "execution_count": 36,
   "metadata": {},
   "outputs": [
    {
     "name": "stdout",
     "output_type": "stream",
     "text": [
      "[{'title': 'Jay Chou 周杰倫【黑色毛衣 Black Sweater】-Official Music Video', 'link': '/watch?v=bX33UI9ZPLk', 'id': 'bX33UI9ZPLk'}, {'title': '黑色毛衣 周杰伦 (歌词版)', 'link': '/watch?v=GEsOZ8H5M9Y', 'id': 'GEsOZ8H5M9Y'}, {'title': '刘瑞琦 - 黑色毛衣（原唱:周杰伦）完整音频版', 'link': '/watch?v=4Sye22_FGFM', 'id': '4Sye22_FGFM'}, {'title': '冯提莫翻唱周杰伦《黑色毛衣》[软字幕]', 'link': '/watch?v=9tz7ylaK8FI', 'id': '9tz7ylaK8FI'}, {'title': '周杰倫Jay Chou 黑色毛衣(日文版Cover) 夢娜Monna', 'link': '/watch?v=9I8uuH7844I', 'id': '9I8uuH7844I'}, {'title': 'Jay Chou 周杰倫【黑色幽默 Black Humor】-Official Music Video', 'link': '/watch?v=wRT-5heURhY', 'id': 'wRT-5heURhY'}, {'title': '周杰倫 Jay Chou【夜曲 Nocturne】Official Music Video', 'link': '/watch?v=6Q0Pd53mojY', 'id': '6Q0Pd53mojY'}, {'title': '20070701 校園歌喉戰 年度總冠軍 韋禮安--黑色毛衣', 'link': '/watch?v=anhp7tB82_I', 'id': 'anhp7tB82_I'}, {'title': '馮提莫 👍周杰倫的 [ 黑色毛衣 ]', 'link': '/watch?v=555uZs8QHX8', 'id': '555uZs8QHX8'}, {'title': '周杰倫.JayChou.2006.演唱會.超級歌會杭州站.黑色毛衣.東風破.我的地盤.七里香.霍元甲', 'link': '/watch?v=3zEZmE8dvjg', 'id': '3zEZmE8dvjg'}]\n"
     ]
    }
   ],
   "source": [
    "results = YoutubeSearch(search_terms, max_results=10)\n",
    "\n",
    "print(results.to_dict())"
   ]
  },
  {
   "cell_type": "code",
   "execution_count": 32,
   "metadata": {},
   "outputs": [],
   "source": [
    "r = results.to_json()"
   ]
  },
  {
   "cell_type": "code",
   "execution_count": 33,
   "metadata": {},
   "outputs": [
    {
     "data": {
      "text/plain": [
       "'{\"videos\": [{\"title\": \"Charlie Puth - We Don\\'t Talk Anymore (feat. Selena Gomez) [Official Video]\", \"link\": \"/watch?v=3AtDnEC4zak\", \"id\": \"3AtDnEC4zak\"}, {\"title\": \"Charlie Puth - We Don\\'t Talk Anymore (Lyrics) feat. Selena Gomez\", \"link\": \"/watch?v=A3TKxux17ZA\", \"id\": \"A3TKxux17ZA\"}, {\"title\": \"Charlie Puth & Selena Gomez - We Don\\'t Talk Anymore [Official Live Performance]\", \"link\": \"/watch?v=i_yLpCLMaKk\", \"id\": \"i_yLpCLMaKk\"}, {\"title\": \"Cliff Richard - We Don\\\\u2019t Talk Anymore (Starparade, 11.10.1979)\", \"link\": \"/watch?v=m8FCZ5x8Gpg\", \"id\": \"m8FCZ5x8Gpg\"}, {\"title\": \"We Don\\'t Talk Anymore - Charlie Puth (Ft. Selena Gomez) (Lyrics)\", \"link\": \"/watch?v=Q0zJr5l9L9Q\", \"id\": \"Q0zJr5l9L9Q\"}, {\"title\": \"Charlie Puth, Selena Gomez \\\\u2012 We Don\\'t Talk Anymore (Lyrics / Lash Remix)\", \"link\": \"/watch?v=klI5SFt4THs\", \"id\": \"klI5SFt4THs\"}, {\"title\": \"Charlie Puth - We Don\\'t Talk Anymore (feat. Selena Gomez) (Official Video)\", \"link\": \"/watch?v=ouS7h84DI0Q\", \"id\": \"ouS7h84DI0Q\"}, {\"title\": \"Charlie Puth - We Don\\'t Talk Anymore ft. Selena Gomez (BOXINBOX & Lionsize Remix)\", \"link\": \"/watch?v=kwW0IAkwIWc\", \"id\": \"kwW0IAkwIWc\"}, {\"title\": \"[ENG] BTS (Jimin & Jungkook (\\\\uc9c0\\\\ubbfc & \\\\uc815\\\\uad6d)) - We don\\'t talk anymore pt.2 (Color Coded Lyrics)\", \"link\": \"/watch?v=ThXvX7pf5LQ\", \"id\": \"ThXvX7pf5LQ\"}, {\"title\": \"We don\\'t talk anymore\", \"link\": \"/watch?v=2FuHbch1dFI\", \"id\": \"2FuHbch1dFI\"}]}'"
      ]
     },
     "execution_count": 33,
     "metadata": {},
     "output_type": "execute_result"
    }
   ],
   "source": [
    "r"
   ]
  },
  {
   "cell_type": "code",
   "execution_count": 31,
   "metadata": {},
   "outputs": [
    {
     "name": "stdout",
     "output_type": "stream",
     "text": [
      "Charlie Puth - We Don't Talk Anymore (feat. Selena Gomez) [Official Video]\n",
      "Charlie Puth - We Don't Talk Anymore (Lyrics) feat. Selena Gomez\n",
      "Charlie Puth & Selena Gomez - We Don't Talk Anymore [Official Live Performance]\n",
      "Cliff Richard - We Don’t Talk Anymore (Starparade, 11.10.1979)\n",
      "We Don't Talk Anymore - Charlie Puth (Ft. Selena Gomez) (Lyrics)\n",
      "Charlie Puth, Selena Gomez ‒ We Don't Talk Anymore (Lyrics / Lash Remix)\n",
      "Charlie Puth - We Don't Talk Anymore (feat. Selena Gomez) (Official Video)\n",
      "Charlie Puth - We Don't Talk Anymore ft. Selena Gomez (BOXINBOX & Lionsize Remix)\n",
      "[ENG] BTS (Jimin & Jungkook (지민 & 정국)) - We don't talk anymore pt.2 (Color Coded Lyrics)\n",
      "We don't talk anymore\n"
     ]
    }
   ],
   "source": [
    "for i in results.to_dict():\n",
    "    print(i['title'])"
   ]
  },
  {
   "cell_type": "code",
   "execution_count": 27,
   "metadata": {},
   "outputs": [
    {
     "name": "stdout",
     "output_type": "stream",
     "text": [
      "{'title': \"Charlie Puth - We Don't Talk Anymore (feat. Selena Gomez) [Official Video]\", 'link': '/watch?v=3AtDnEC4zak', 'id': '3AtDnEC4zak'}\n",
      "{'title': \"Charlie Puth - We Don't Talk Anymore (Lyrics) feat. Selena Gomez\", 'link': '/watch?v=A3TKxux17ZA', 'id': 'A3TKxux17ZA'}\n",
      "{'title': \"Charlie Puth & Selena Gomez - We Don't Talk Anymore [Official Live Performance]\", 'link': '/watch?v=i_yLpCLMaKk', 'id': 'i_yLpCLMaKk'}\n",
      "{'title': 'Cliff Richard - We Don’t Talk Anymore (Starparade, 11.10.1979)', 'link': '/watch?v=m8FCZ5x8Gpg', 'id': 'm8FCZ5x8Gpg'}\n",
      "{'title': \"We Don't Talk Anymore - Charlie Puth (Ft. Selena Gomez) (Lyrics)\", 'link': '/watch?v=Q0zJr5l9L9Q', 'id': 'Q0zJr5l9L9Q'}\n",
      "{'title': \"Charlie Puth, Selena Gomez ‒ We Don't Talk Anymore (Lyrics / Lash Remix)\", 'link': '/watch?v=klI5SFt4THs', 'id': 'klI5SFt4THs'}\n",
      "{'title': \"Charlie Puth - We Don't Talk Anymore (feat. Selena Gomez) (Official Video)\", 'link': '/watch?v=ouS7h84DI0Q', 'id': 'ouS7h84DI0Q'}\n",
      "{'title': \"Charlie Puth - We Don't Talk Anymore ft. Selena Gomez (BOXINBOX & Lionsize Remix)\", 'link': '/watch?v=kwW0IAkwIWc', 'id': 'kwW0IAkwIWc'}\n",
      "{'title': \"[ENG] BTS (Jimin & Jungkook (지민 & 정국)) - We don't talk anymore pt.2 (Color Coded Lyrics)\", 'link': '/watch?v=ThXvX7pf5LQ', 'id': 'ThXvX7pf5LQ'}\n",
      "{'title': \"We don't talk anymore\", 'link': '/watch?v=2FuHbch1dFI', 'id': '2FuHbch1dFI'}\n"
     ]
    }
   ],
   "source": [
    "for i in results.to_dict():\n",
    "    print(i)"
   ]
  },
  {
   "cell_type": "code",
   "execution_count": null,
   "metadata": {},
   "outputs": [],
   "source": [
    "results = YoutubeSearch('search terms', max_results=10).to_dict()\n",
    "\n",
    "print(results)"
   ]
  }
 ],
 "metadata": {
  "kernelspec": {
   "display_name": "Python 3",
   "language": "python",
   "name": "python3"
  },
  "language_info": {
   "codemirror_mode": {
    "name": "ipython",
    "version": 3
   },
   "file_extension": ".py",
   "mimetype": "text/x-python",
   "name": "python",
   "nbconvert_exporter": "python",
   "pygments_lexer": "ipython3",
   "version": "3.7.7"
  }
 },
 "nbformat": 4,
 "nbformat_minor": 4
}
